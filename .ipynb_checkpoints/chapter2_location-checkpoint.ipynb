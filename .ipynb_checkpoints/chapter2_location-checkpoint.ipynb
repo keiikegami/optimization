{
 "cells": [
  {
   "cell_type": "code",
   "execution_count": 14,
   "metadata": {
    "collapsed": true
   },
   "outputs": [],
   "source": [
    "#容量制約付き施設配置問題\n",
    "from gurobipy import *\n",
    "def make_data():\n",
    "    I,d = multidict({1:80, 2:270, 3:250, 4:160, 5:180})            # demand\n",
    "    J,M,f = multidict({1:[500,1000], 2:[500,1000], 3:[500,1000]}) # capacity, fixed costs\n",
    "    c = {(1,1):4,  (1,2):6,  (1,3):9,    # transportation costs\n",
    "         (2,1):5,  (2,2):4,  (2,3):7,\n",
    "         (3,1):6,  (3,2):3,  (3,3):4,\n",
    "         (4,1):8,  (4,2):5,  (4,3):3,\n",
    "         (5,1):10, (5,2):8,  (5,3):4,\n",
    "         }\n",
    "    return I,J,d,M,f,c"
   ]
  },
  {
   "cell_type": "code",
   "execution_count": 15,
   "metadata": {
    "collapsed": false
   },
   "outputs": [
    {
     "data": {
      "text/plain": [
       "([1, 2, 3, 4, 5],\n",
       " [1, 2, 3],\n",
       " {1: 80, 2: 270, 3: 250, 4: 160, 5: 180},\n",
       " {1: 500, 2: 500, 3: 500},\n",
       " {1: 1000, 2: 1000, 3: 1000},\n",
       " {(1, 1): 4,\n",
       "  (1, 2): 6,\n",
       "  (1, 3): 9,\n",
       "  (2, 1): 5,\n",
       "  (2, 2): 4,\n",
       "  (2, 3): 7,\n",
       "  (3, 1): 6,\n",
       "  (3, 2): 3,\n",
       "  (3, 3): 4,\n",
       "  (4, 1): 8,\n",
       "  (4, 2): 5,\n",
       "  (4, 3): 3,\n",
       "  (5, 1): 10,\n",
       "  (5, 2): 8,\n",
       "  (5, 3): 4})"
      ]
     },
     "execution_count": 15,
     "metadata": {},
     "output_type": "execute_result"
    }
   ],
   "source": [
    "#multidictを三つ一気にやると、keyの先のリストから一つずつ辞書の先にくっつく\n",
    "make_data()"
   ]
  },
  {
   "cell_type": "code",
   "execution_count": 39,
   "metadata": {
    "collapsed": false
   },
   "outputs": [],
   "source": [
    "#変数の名前はつけないと結果の解釈ができない\n",
    "def flp(I,J,d,M,f,c):\n",
    "    model = Model(\"flp\")\n",
    "    x, y = {} ,{}\n",
    "    for j in J:\n",
    "        y[j] = model.addVar(vtype = \"B\", name = \"facility(%s)\" %j)\n",
    "        for i in I:\n",
    "            x[i,j] = model.addVar(vtype = \"C\", name = \"transport(%s, %s)\" %(i,j))\n",
    "    model.update()\n",
    "    \n",
    "    for i in I:\n",
    "        model.addConstr(quicksum(x[i,j] for j in J) == d[i])\n",
    "    for j in J:\n",
    "        model.addConstr(quicksum(x[i,j] for i in I) <= M[j]* y[j])\n",
    "    for (i,j) in x:\n",
    "        model.addConstr(x[i,j] <= d[i] * y[j])\n",
    "        \n",
    "    model.setObjective(quicksum(f[j]*y[j] for j in J) + quicksum(c[i,j]* x[i,j] for i in I for j in J))\n",
    "    model.__data = x,y\n",
    "    \n",
    "    return model"
   ]
  },
  {
   "cell_type": "code",
   "execution_count": 40,
   "metadata": {
    "collapsed": false
   },
   "outputs": [
    {
     "name": "stdout",
     "output_type": "stream",
     "text": [
      "Optimize a model with 23 rows, 18 columns and 63 nonzeros\n",
      "Coefficient statistics:\n",
      "  Matrix range    [1e+00, 5e+02]\n",
      "  Objective range [3e+00, 1e+03]\n",
      "  Bounds range    [1e+00, 1e+00]\n",
      "  RHS range       [8e+01, 3e+02]\n",
      "Found heuristic solution: objective 7990\n",
      "Presolve time: 0.00s\n",
      "Presolved: 23 rows, 18 columns, 63 nonzeros\n",
      "Variable types: 15 continuous, 3 integer (3 binary)\n",
      "\n",
      "Root relaxation: objective 5.610000e+03, 7 iterations, 0.00 seconds\n",
      "\n",
      "    Nodes    |    Current Node    |     Objective Bounds      |     Work\n",
      " Expl Unexpl |  Obj  Depth IntInf | Incumbent    BestBd   Gap | It/Node Time\n",
      "\n",
      "*    0     0               0    5610.0000000 5610.00000  0.00%     -    0s\n",
      "\n",
      "Explored 0 nodes (7 simplex iterations) in 0.01 seconds\n",
      "Thread count was 2 (of 4 available processors)\n",
      "\n",
      "Optimal solution found (tolerance 1.00e-04)\n",
      "Best objective 5.610000000000e+03, best bound 5.610000000000e+03, gap 0.0%\n"
     ]
    }
   ],
   "source": [
    "if __name__ == \"__main__\":\n",
    "    I,J,d,c,f,M = make_data()\n",
    "    model = flp(I,J,d,c,f,M)\n",
    "    model.optimize()"
   ]
  },
  {
   "cell_type": "code",
   "execution_count": 41,
   "metadata": {
    "collapsed": false
   },
   "outputs": [
    {
     "name": "stdout",
     "output_type": "stream",
     "text": [
      "facility(1) -0.0\n",
      "transport(1, 1) 0.0\n",
      "transport(2, 1) 0.0\n",
      "transport(3, 1) 0.0\n",
      "transport(4, 1) 0.0\n",
      "transport(5, 1) 0.0\n",
      "facility(2) 1.0\n",
      "transport(1, 2) 80.0\n",
      "transport(2, 2) 270.0\n",
      "transport(3, 2) 150.0\n",
      "transport(4, 2) 0.0\n",
      "transport(5, 2) 0.0\n",
      "facility(3) 1.0\n",
      "transport(1, 3) 0.0\n",
      "transport(2, 3) 0.0\n",
      "transport(3, 3) 100.0\n",
      "transport(4, 3) 160.0\n",
      "transport(5, 3) 180.0\n"
     ]
    }
   ],
   "source": [
    "for v in model.getVars():\n",
    "    print v.VarName ,v.X"
   ]
  },
  {
   "cell_type": "code",
   "execution_count": 53,
   "metadata": {
    "collapsed": true
   },
   "outputs": [],
   "source": [
    "#k-median problem\n",
    "def kmedian(I, J, c, k):\n",
    "    model = Model(\"k-median\")\n",
    "    x ,y = {} ,{}\n",
    "    for j in J:\n",
    "        y[j] = model.addVar(vtype= \"B\", name = \"facility(%s)\" %j)\n",
    "        \n",
    "        for i in I:\n",
    "            x[i,j] = model.addVar(vtype=\"B\" ,name = \"satisfaction(%s, %s)\" %(i,j))\n",
    "    model.update()\n",
    "    \n",
    "    for i in I:\n",
    "        model.addConstr(quicksum(x[i,j] for j in J) == 1)\n",
    "        for j in J:\n",
    "            model.addConstr(x[i, j] <= y[j])\n",
    "    \n",
    "    model.addConstr(quicksum(y[j] for j in J) == k)\n",
    "    model.setObjective(quicksum(c[i,j] *x[i,j] for i in I for j in J))\n",
    "    \n",
    "    model.__data = x, y\n",
    "    return model"
   ]
  },
  {
   "cell_type": "code",
   "execution_count": 54,
   "metadata": {
    "collapsed": true
   },
   "outputs": [],
   "source": [
    "def make_data2():\n",
    "    I = [1,2,3,4,5]\n",
    "    J = [1,2,3]\n",
    "    c = c = {(1,1):4,  (1,2):6,  (1,3):9, \n",
    "         (2,1):5,  (2,2):4,  (2,3):7,\n",
    "         (3,1):6,  (3,2):3,  (3,3):4,\n",
    "         (4,1):8,  (4,2):5,  (4,3):3,\n",
    "         (5,1):10, (5,2):8,  (5,3):4,}\n",
    "    k = 2\n",
    "    return I,J,c,k"
   ]
  },
  {
   "cell_type": "code",
   "execution_count": 55,
   "metadata": {
    "collapsed": false
   },
   "outputs": [
    {
     "name": "stdout",
     "output_type": "stream",
     "text": [
      "Optimize a model with 21 rows, 18 columns and 48 nonzeros\n",
      "Coefficient statistics:\n",
      "  Matrix range    [1e+00, 1e+00]\n",
      "  Objective range [3e+00, 1e+01]\n",
      "  Bounds range    [1e+00, 1e+00]\n",
      "  RHS range       [1e+00, 2e+00]\n",
      "Found heuristic solution: objective 27\n",
      "Presolve time: 0.00s\n",
      "Presolved: 21 rows, 18 columns, 48 nonzeros\n",
      "Variable types: 0 continuous, 18 integer (18 binary)\n",
      "\n",
      "Root relaxation: objective 2.000000e+01, 11 iterations, 0.00 seconds\n",
      "\n",
      "    Nodes    |    Current Node    |     Objective Bounds      |     Work\n",
      " Expl Unexpl |  Obj  Depth IntInf | Incumbent    BestBd   Gap | It/Node Time\n",
      "\n",
      "*    0     0               0      20.0000000   20.00000  0.00%     -    0s\n",
      "\n",
      "Explored 0 nodes (11 simplex iterations) in 0.01 seconds\n",
      "Thread count was 2 (of 4 available processors)\n",
      "\n",
      "Optimal solution found (tolerance 1.00e-04)\n",
      "Best objective 2.000000000000e+01, best bound 2.000000000000e+01, gap 0.0%\n"
     ]
    }
   ],
   "source": [
    "if __name__ == \"__main__\":\n",
    "    I,J,c,k = make_data2()\n",
    "    model = kmedian( I,J,c,k)\n",
    "    model.optimize()"
   ]
  },
  {
   "cell_type": "code",
   "execution_count": 56,
   "metadata": {
    "collapsed": false
   },
   "outputs": [
    {
     "name": "stdout",
     "output_type": "stream",
     "text": [
      "facility(1) 1.0\n",
      "satisfaction(1, 1) 1.0\n",
      "satisfaction(2, 1) 1.0\n",
      "satisfaction(3, 1) -0.0\n",
      "satisfaction(4, 1) -0.0\n",
      "satisfaction(5, 1) -0.0\n",
      "facility(2) 0.0\n",
      "satisfaction(1, 2) -0.0\n",
      "satisfaction(2, 2) 0.0\n",
      "satisfaction(3, 2) 0.0\n",
      "satisfaction(4, 2) -0.0\n",
      "satisfaction(5, 2) -0.0\n",
      "facility(3) 1.0\n",
      "satisfaction(1, 3) -0.0\n",
      "satisfaction(2, 3) -0.0\n",
      "satisfaction(3, 3) 1.0\n",
      "satisfaction(4, 3) 1.0\n",
      "satisfaction(5, 3) 1.0\n"
     ]
    }
   ],
   "source": [
    "for v in model.getVars():\n",
    "    print v.VarName, v.X\n",
    "    \n",
    "#1、2さんは施設1に\n",
    "#3、4、5さんは施設3に\n",
    "#施設2は開設されなかった"
   ]
  },
  {
   "cell_type": "code",
   "execution_count": 57,
   "metadata": {
    "collapsed": true
   },
   "outputs": [],
   "source": [
    "#k-center problem\n",
    "def kcenter(I, J, c, k):\n",
    "    model = Model(\"k-center\")\n",
    "    z = model.addVar(vtype = \"C\", name = \"max_distance\" )\n",
    "    x, y = {}, {}\n",
    "    \n",
    "    for j in J:\n",
    "        y[j] = model.addVar(vtype= \"B\", name = \"facility(%s)\" %j)\n",
    "        \n",
    "        for i in I:\n",
    "            x[i,j] = model.addVar(vtype=\"B\" ,name = \"satisfaction(%s, %s)\" %(i,j))\n",
    "    model.update()\n",
    "    \n",
    "    for i in I:\n",
    "        model.addConstr(quicksum(x[i,j] for j in J) == 1)\n",
    "        for j in J:\n",
    "            model.addConstr(x[i, j] <= y[j])\n",
    "            model.addConstr(c[i,j] * x[i,j] <= z)\n",
    "    \n",
    "    model.addConstr(quicksum(y[j] for j in J) == k)\n",
    "    model.setObjective(z)\n",
    "    model.__data = x, y\n",
    "    return model"
   ]
  },
  {
   "cell_type": "code",
   "execution_count": 58,
   "metadata": {
    "collapsed": false
   },
   "outputs": [
    {
     "name": "stdout",
     "output_type": "stream",
     "text": [
      "Optimize a model with 36 rows, 19 columns and 78 nonzeros\n",
      "Coefficient statistics:\n",
      "  Matrix range    [1e+00, 1e+01]\n",
      "  Objective range [1e+00, 1e+00]\n",
      "  Bounds range    [1e+00, 1e+00]\n",
      "  RHS range       [1e+00, 2e+00]\n",
      "Found heuristic solution: objective 8\n",
      "Presolve time: 0.00s\n",
      "Presolved: 36 rows, 19 columns, 78 nonzeros\n",
      "Variable types: 1 continuous, 18 integer (18 binary)\n",
      "\n",
      "Root relaxation: objective 4.000000e+00, 9 iterations, 0.00 seconds\n",
      "\n",
      "    Nodes    |    Current Node    |     Objective Bounds      |     Work\n",
      " Expl Unexpl |  Obj  Depth IntInf | Incumbent    BestBd   Gap | It/Node Time\n",
      "\n",
      "     0     0    4.00000    0    8    8.00000    4.00000  50.0%     -    0s\n",
      "H    0     0                       6.0000000    4.00000  33.3%     -    0s\n",
      "H    0     0                       5.0000000    4.00000  20.0%     -    0s\n",
      "\n",
      "Explored 0 nodes (10 simplex iterations) in 0.01 seconds\n",
      "Thread count was 2 (of 4 available processors)\n",
      "\n",
      "Optimal solution found (tolerance 1.00e-04)\n",
      "Best objective 5.000000000000e+00, best bound 5.000000000000e+00, gap 0.0%\n"
     ]
    }
   ],
   "source": [
    "if __name__ == \"__main__\":\n",
    "    I,J,c,k = make_data2()\n",
    "    model = kcenter( I,J,c,k)\n",
    "    model.optimize()"
   ]
  },
  {
   "cell_type": "code",
   "execution_count": 59,
   "metadata": {
    "collapsed": false
   },
   "outputs": [
    {
     "name": "stdout",
     "output_type": "stream",
     "text": [
      "max_distance 5.0\n",
      "facility(1) 1.0\n",
      "satisfaction(1, 1) 1.0\n",
      "satisfaction(2, 1) 1.0\n",
      "satisfaction(3, 1) -0.0\n",
      "satisfaction(4, 1) -0.0\n",
      "satisfaction(5, 1) -0.0\n",
      "facility(2) -0.0\n",
      "satisfaction(1, 2) -0.0\n",
      "satisfaction(2, 2) -0.0\n",
      "satisfaction(3, 2) -0.0\n",
      "satisfaction(4, 2) -0.0\n",
      "satisfaction(5, 2) -0.0\n",
      "facility(3) 1.0\n",
      "satisfaction(1, 3) -0.0\n",
      "satisfaction(2, 3) -0.0\n",
      "satisfaction(3, 3) 1.0\n",
      "satisfaction(4, 3) 1.0\n",
      "satisfaction(5, 3) 1.0\n"
     ]
    }
   ],
   "source": [
    "for v in model.getVars():\n",
    "    print v.VarName, v.X\n",
    "    \n",
    "#この場合はk-median problemと解は同じ"
   ]
  },
  {
   "cell_type": "code",
   "execution_count": null,
   "metadata": {
    "collapsed": true
   },
   "outputs": [],
   "source": []
  }
 ],
 "metadata": {
  "kernelspec": {
   "display_name": "Python 2",
   "language": "python",
   "name": "python2"
  },
  "language_info": {
   "codemirror_mode": {
    "name": "ipython",
    "version": 2
   },
   "file_extension": ".py",
   "mimetype": "text/x-python",
   "name": "python",
   "nbconvert_exporter": "python",
   "pygments_lexer": "ipython2",
   "version": "2.7.9"
  }
 },
 "nbformat": 4,
 "nbformat_minor": 0
}
