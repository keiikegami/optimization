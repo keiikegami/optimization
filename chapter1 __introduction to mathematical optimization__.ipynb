{
 "cells": [
  {
   "cell_type": "code",
   "execution_count": 20,
   "metadata": {
    "collapsed": false
   },
   "outputs": [],
   "source": [
    "#線形最適化問題\n",
    "from gurobipy import *"
   ]
  },
  {
   "cell_type": "code",
   "execution_count": 21,
   "metadata": {
    "collapsed": false
   },
   "outputs": [],
   "source": [
    "#モデルを作成\n",
    "model = Model(\"k\")"
   ]
  },
  {
   "cell_type": "code",
   "execution_count": 22,
   "metadata": {
    "collapsed": false
   },
   "outputs": [],
   "source": [
    "#modelに変数を追加 addVar\n",
    "x1 = model.addVar(ub =5, lb=0 ,name=\"x1\")\n",
    "x2 = model.addVar(ub =6 ,lb=0, name=\"x2\")\n",
    "x3 = model.addVar(ub = 4, lb=0,name=\"x3\")\n",
    "model.update()"
   ]
  },
  {
   "cell_type": "code",
   "execution_count": 23,
   "metadata": {
    "collapsed": false
   },
   "outputs": [
    {
     "data": {
      "text/plain": [
       "<gurobi.Constr *Awaiting Model Update*>"
      ]
     },
     "execution_count": 23,
     "metadata": {},
     "output_type": "execute_result"
    }
   ],
   "source": [
    "#制約の追加 addConstr\n",
    "model.addConstr(x1 + x2 + x3 == 7)"
   ]
  },
  {
   "cell_type": "code",
   "execution_count": 24,
   "metadata": {
    "collapsed": true
   },
   "outputs": [],
   "source": [
    "#目的関数の設定 setObjective\n",
    "model.setObjective(121- x1 - 3*x2 - 4*x3)\n"
   ]
  },
  {
   "cell_type": "code",
   "execution_count": 25,
   "metadata": {
    "collapsed": true
   },
   "outputs": [],
   "source": [
    "#目的関数の方向を設定　ModelSense = -1で最大化　1で最小化　規定値は1\n",
    "model.ModelSense =1"
   ]
  },
  {
   "cell_type": "code",
   "execution_count": 26,
   "metadata": {
    "collapsed": false
   },
   "outputs": [
    {
     "name": "stdout",
     "output_type": "stream",
     "text": [
      "Optimize a model with 1 rows, 3 columns and 3 nonzeros\n",
      "Coefficient statistics:\n",
      "  Matrix range    [1e+00, 1e+00]\n",
      "  Objective range [1e+00, 4e+00]\n",
      "  Bounds range    [4e+00, 6e+00]\n",
      "  RHS range       [7e+00, 7e+00]\n",
      "Presolve time: 0.00s\n",
      "Presolved: 1 rows, 3 columns, 3 nonzeros\n",
      "\n",
      "Iteration    Objective       Primal Inf.    Dual Inf.      Time\n",
      "       0    9.3000000e+01   3.000000e+00   0.000000e+00      0s\n",
      "       1    9.6000000e+01   0.000000e+00   0.000000e+00      0s\n",
      "\n",
      "Solved in 1 iterations and 0.01 seconds\n",
      "Optimal objective  9.600000000e+01\n",
      "Opt. Value=  96.0\n"
     ]
    }
   ],
   "source": [
    "#解の出力 ObjVal\n",
    "from __future__ import division\n",
    "model.optimize()\n",
    "print \"Opt. Value= \" ,model.ObjVal "
   ]
  },
  {
   "cell_type": "code",
   "execution_count": 27,
   "metadata": {
    "collapsed": false
   },
   "outputs": [
    {
     "name": "stdout",
     "output_type": "stream",
     "text": [
      "x1 0.0\n",
      "x2 3.0\n",
      "x3 4.0\n"
     ]
    }
   ],
   "source": [
    "#会の出力その2　getVarsは変数オブジェクトのリストを返す　VarNameとX\n",
    "for v in model.getVars():\n",
    "    print v.VarName, v.X"
   ]
  },
  {
   "cell_type": "code",
   "execution_count": 24,
   "metadata": {
    "collapsed": false
   },
   "outputs": [
    {
     "name": "stdout",
     "output_type": "stream",
     "text": [
      "(x1, x2 ,x3)= 10.0 10.0 30.0\n"
     ]
    }
   ],
   "source": [
    "#これでも最適解を出力可能\n",
    "print \"(x1, x2 ,x3)=\" , x1.X, x2.X, x3.X"
   ]
  },
  {
   "cell_type": "code",
   "execution_count": 25,
   "metadata": {
    "collapsed": false
   },
   "outputs": [
    {
     "name": "stdout",
     "output_type": "stream",
     "text": [
      "Optimize a model with 2 rows, 3 columns and 6 nonzeros\n",
      "Coefficient statistics:\n",
      "  Matrix range    [1e+00, 8e+00]\n",
      "  Objective range [1e+00, 1e+00]\n",
      "  Bounds range    [0e+00, 0e+00]\n",
      "  RHS range       [3e+01, 8e+01]\n",
      "Presolve removed 2 rows and 3 columns\n",
      "Presolve time: 0.00s\n",
      "\n",
      "Explored 0 nodes (0 simplex iterations) in 0.00 seconds\n",
      "Thread count was 1 (of 4 available processors)\n",
      "\n",
      "Optimal solution found (tolerance 1.00e-04)\n",
      "Best objective 4.000000000000e+00, best bound 4.000000000000e+00, gap 0.0%\n",
      "Opt. Value = 4.0\n",
      "(x,y,z)= 28.0 2.0 2.0\n"
     ]
    }
   ],
   "source": [
    "#整数最適化問題　ほとんど上と同じ　vtypeをIにするだけ\n",
    "model = Model(\"turukame\")\n",
    "x = model.addVar(vtype = \"I\")\n",
    "y = model.addVar(vtype = \"I\")\n",
    "z = model.addVar(vtype = \"I\")\n",
    "model.update()\n",
    "model.addConstr(x + y+ z == 32)\n",
    "model.addConstr(2*x + 4*y +8*z == 80)\n",
    "model.setObjective(y + z )\n",
    "model.optimize()\n",
    "print \"Opt. Value =\" ,model.ObjVal\n",
    "print \"(x,y,z)=\" , x.X ,y.X ,z.X"
   ]
  },
  {
   "cell_type": "code",
   "execution_count": 72,
   "metadata": {
    "collapsed": false
   },
   "outputs": [],
   "source": [
    "#輸送問題\n",
    "model = Model()"
   ]
  },
  {
   "cell_type": "code",
   "execution_count": 73,
   "metadata": {
    "collapsed": false
   },
   "outputs": [],
   "source": [
    "#顧客リストと需用量辞書、工場リストと供給量リストの同時出力　multidict\n",
    "I,d = multidict({1:80, 2:270 ,3:250 ,4:160 ,5:180})\n",
    "J,M = multidict({1:500 ,2:500 ,3:500})"
   ]
  },
  {
   "cell_type": "code",
   "execution_count": 35,
   "metadata": {
    "collapsed": false
   },
   "outputs": [
    {
     "data": {
      "text/plain": [
       "[1, 2, 3, 4, 5]"
      ]
     },
     "execution_count": 35,
     "metadata": {},
     "output_type": "execute_result"
    }
   ],
   "source": [
    "I"
   ]
  },
  {
   "cell_type": "code",
   "execution_count": 37,
   "metadata": {
    "collapsed": false
   },
   "outputs": [
    {
     "data": {
      "text/plain": [
       "[1, 2, 3]"
      ]
     },
     "execution_count": 37,
     "metadata": {},
     "output_type": "execute_result"
    }
   ],
   "source": [
    "J"
   ]
  },
  {
   "cell_type": "code",
   "execution_count": 38,
   "metadata": {
    "collapsed": false
   },
   "outputs": [
    {
     "data": {
      "text/plain": [
       "{1: 80, 2: 270, 3: 250, 4: 160, 5: 180}"
      ]
     },
     "execution_count": 38,
     "metadata": {},
     "output_type": "execute_result"
    }
   ],
   "source": [
    "d"
   ]
  },
  {
   "cell_type": "code",
   "execution_count": 39,
   "metadata": {
    "collapsed": false
   },
   "outputs": [
    {
     "data": {
      "text/plain": [
       "{1: 500, 2: 500, 3: 500}"
      ]
     },
     "execution_count": 39,
     "metadata": {},
     "output_type": "execute_result"
    }
   ],
   "source": [
    "M"
   ]
  },
  {
   "cell_type": "code",
   "execution_count": 74,
   "metadata": {
    "collapsed": true
   },
   "outputs": [],
   "source": [
    "#輸送費用の設定 タプルで顧客と工場の関係を表示 タプルをキーとする辞書型\n",
    "c = {(1,1):4, (1,2):6, (1,3):9, (2,1):5, (2,2):4, (2,3):7, (3,1):6, (3,2):3, (3,3):4, (4,1):8, (4,2):5, (4,3):3, (5,1):10, (5,2):8, (5,3):4}"
   ]
  },
  {
   "cell_type": "code",
   "execution_count": 40,
   "metadata": {
    "collapsed": false
   },
   "outputs": [
    {
     "data": {
      "text/plain": [
       "{(1, 1): 4,\n",
       " (1, 2): 6,\n",
       " (1, 3): 9,\n",
       " (2, 1): 5,\n",
       " (2, 2): 4,\n",
       " (2, 3): 7,\n",
       " (3, 1): 6,\n",
       " (3, 2): 3,\n",
       " (3, 3): 4,\n",
       " (4, 1): 8,\n",
       " (4, 2): 5,\n",
       " (4, 3): 3,\n",
       " (5, 1): 10,\n",
       " (5, 2): 8,\n",
       " (5, 3): 4}"
      ]
     },
     "execution_count": 40,
     "metadata": {},
     "output_type": "execute_result"
    }
   ],
   "source": [
    "c"
   ]
  },
  {
   "cell_type": "code",
   "execution_count": 75,
   "metadata": {
    "collapsed": true
   },
   "outputs": [],
   "source": [
    "#変数の作成\n",
    "x = {}\n",
    "for i in I:\n",
    "    for j in J:\n",
    "        x[i,j] = model.addVar(vtype = \"C\", name = \"x(%s,%s)\" %(i,j))\n",
    "model.update()"
   ]
  },
  {
   "cell_type": "code",
   "execution_count": 21,
   "metadata": {
    "collapsed": false
   },
   "outputs": [
    {
     "data": {
      "text/plain": [
       "{(1, 1): <gurobi.Var x(1,1)>,\n",
       " (1, 2): <gurobi.Var x(1,2)>,\n",
       " (1, 3): <gurobi.Var x(1,3)>,\n",
       " (2, 1): <gurobi.Var x(2,1)>,\n",
       " (2, 2): <gurobi.Var x(2,2)>,\n",
       " (2, 3): <gurobi.Var x(2,3)>,\n",
       " (3, 1): <gurobi.Var x(3,1)>,\n",
       " (3, 2): <gurobi.Var x(3,2)>,\n",
       " (3, 3): <gurobi.Var x(3,3)>,\n",
       " (4, 1): <gurobi.Var x(4,1)>,\n",
       " (4, 2): <gurobi.Var x(4,2)>,\n",
       " (4, 3): <gurobi.Var x(4,3)>,\n",
       " (5, 1): <gurobi.Var x(5,1)>,\n",
       " (5, 2): <gurobi.Var x(5,2)>,\n",
       " (5, 3): <gurobi.Var x(5,3)>}"
      ]
     },
     "execution_count": 21,
     "metadata": {},
     "output_type": "execute_result"
    }
   ],
   "source": [
    "x"
   ]
  },
  {
   "cell_type": "code",
   "execution_count": 76,
   "metadata": {
    "collapsed": false
   },
   "outputs": [],
   "source": [
    "#制約の追加  オプションで制約にも名前をつけていることに注意 ここではそれぞれDeman(i)という制約にしている。\n",
    "for i in I:\n",
    "    model.addConstr(quicksum(x[i,j] for j in J) == d[i], name = \"Demand(%s)\" % i)"
   ]
  },
  {
   "cell_type": "code",
   "execution_count": 77,
   "metadata": {
    "collapsed": false
   },
   "outputs": [],
   "source": [
    "for j in J:\n",
    "    model.addConstr(quicksum(x[i,j] for i in I ) <= M[j] ,name = \"Capacity(%s)\"% j )"
   ]
  },
  {
   "cell_type": "code",
   "execution_count": 29,
   "metadata": {
    "collapsed": false
   },
   "outputs": [
    {
     "data": {
      "text/plain": [
       "6"
      ]
     },
     "execution_count": 29,
     "metadata": {},
     "output_type": "execute_result"
    }
   ],
   "source": [
    "#次の二つはどちらでも良い\n",
    "c[(1,2)]"
   ]
  },
  {
   "cell_type": "code",
   "execution_count": 30,
   "metadata": {
    "collapsed": false
   },
   "outputs": [
    {
     "data": {
      "text/plain": [
       "6"
      ]
     },
     "execution_count": 30,
     "metadata": {},
     "output_type": "execute_result"
    }
   ],
   "source": [
    "c[1,2]"
   ]
  },
  {
   "cell_type": "code",
   "execution_count": 78,
   "metadata": {
    "collapsed": false
   },
   "outputs": [],
   "source": [
    "#目的関数の設定\n",
    "model.setObjective(quicksum(c[i,j]*x[i,j] for (i,j) in x) ,GRB.MINIMIZE)"
   ]
  },
  {
   "cell_type": "code",
   "execution_count": 79,
   "metadata": {
    "collapsed": false
   },
   "outputs": [
    {
     "name": "stdout",
     "output_type": "stream",
     "text": [
      "Optimize a model with 8 rows, 15 columns and 30 nonzeros\n",
      "Coefficient statistics:\n",
      "  Matrix range    [1e+00, 1e+00]\n",
      "  Objective range [3e+00, 1e+01]\n",
      "  Bounds range    [0e+00, 0e+00]\n",
      "  RHS range       [8e+01, 5e+02]\n",
      "Presolve time: 0.00s\n",
      "Presolved: 8 rows, 15 columns, 30 nonzeros\n",
      "\n",
      "Iteration    Objective       Primal Inf.    Dual Inf.      Time\n",
      "       0    3.3500000e+03   2.000000e+01   0.000000e+00      0s\n",
      "       1    3.3700000e+03   0.000000e+00   0.000000e+00      0s\n",
      "\n",
      "Solved in 1 iterations and 0.01 seconds\n",
      "Optimal objective  3.370000000e+03\n"
     ]
    }
   ],
   "source": [
    "model.optimize()"
   ]
  },
  {
   "cell_type": "code",
   "execution_count": 81,
   "metadata": {
    "collapsed": false
   },
   "outputs": [
    {
     "name": "stdout",
     "output_type": "stream",
     "text": [
      "optimal value: 3370.0\n",
      "sending quantity      230.0 from   2 to customer   3\n",
      "sending quantity       20.0 from   3 to customer   3\n",
      "sending quantity      160.0 from   3 to customer   4\n",
      "sending quantity      270.0 from   2 to customer   2\n",
      "sending quantity       80.0 from   1 to customer   1\n",
      "sending quantity      180.0 from   3 to customer   5\n"
     ]
    }
   ],
   "source": [
    " #結果の表示\n",
    "print \"optimal value:\" , model.ObjVal\n",
    "EPS = 1.e-6　#0以下の結果を表示しないために\n",
    "for (i,j) in x:\n",
    "    if x[i,j].X > EPS:\n",
    "        print \"sending quantity %10s from %3s to customer %3s\" %(x[i,j].X,j,i)　#Xで値だけ呼ばないと、編すの持つ全ての要素が呼び出される。"
   ]
  },
  {
   "cell_type": "code",
   "execution_count": 83,
   "metadata": {
    "collapsed": false
   },
   "outputs": [
    {
     "name": "stdout",
     "output_type": "stream",
     "text": [
      "Const. Name : Slack ,Dual\n",
      "Demand(1) : 0.0, 4.0\n",
      "Demand(2) : 0.0, 5.0\n",
      "Demand(3) : 0.0, 4.0\n",
      "Demand(4) : 0.0, 3.0\n",
      "Demand(5) : 0.0, 4.0\n",
      "Capacity(1) : 420.0, 0.0\n",
      "Capacity(2) : 0.0, -1.0\n",
      "Capacity(3) : 140.0, 0.0\n"
     ]
    }
   ],
   "source": [
    "#双対問題\n",
    "print \"Const. Name : Slack ,Dual\"\n",
    "for c in model.getConstrs():\n",
    "    print \"%s : %s, %s\" %(c.ConstrName , c.Slack, c.pi)"
   ]
  },
  {
   "cell_type": "code",
   "execution_count": 84,
   "metadata": {
    "collapsed": true
   },
   "outputs": [],
   "source": [
    "#混合問題\n",
    "#各原料が含む成分の割合\n",
    "a = {(1,1):.25 ,(1,2):.15 ,(1,3):.3, (2,1):.3 ,(2,2):.3 ,(2,3):.1 ,(3,1):.15 ,(3,2):.65 ,(3,3):.05 ,(4,1):.1 ,(4,2):.05 ,(4,3):.85}"
   ]
  },
  {
   "cell_type": "code",
   "execution_count": 88,
   "metadata": {
    "collapsed": false
   },
   "outputs": [],
   "source": [
    "#各種データ\n",
    "I,p = multidict({1:5, 2:6 ,3:8 ,4:20})\n",
    "K,LB,UB = multidict({1:[.1,.2], 2:[.0,.35], 3:[.45,1.0]})"
   ]
  },
  {
   "cell_type": "code",
   "execution_count": 90,
   "metadata": {
    "collapsed": false
   },
   "outputs": [
    {
     "name": "stdout",
     "output_type": "stream",
     "text": [
      "Optimize a model with 7 rows, 4 columns and 28 nonzeros\n",
      "Coefficient statistics:\n",
      "  Matrix range    [5e-02, 1e+00]\n",
      "  Objective range [5e+00, 2e+01]\n",
      "  Bounds range    [0e+00, 0e+00]\n",
      "  RHS range       [1e-01, 1e+00]\n",
      "Presolve removed 3 rows and 0 columns\n",
      "Presolve time: 0.00s\n",
      "Presolved: 4 rows, 6 columns, 18 nonzeros\n",
      "\n",
      "Iteration    Objective       Primal Inf.    Dual Inf.      Time\n",
      "       0    7.0372443e+00   7.173123e-01   0.000000e+00      0s\n",
      "       2    9.6216216e+00   0.000000e+00   0.000000e+00      0s\n",
      "\n",
      "Solved in 2 iterations and 0.01 seconds\n",
      "Optimal objective  9.621621622e+00\n",
      "1 0.648648648649\n",
      "2 0.0\n",
      "3 0.0540540540541\n",
      "4 0.297297297297\n"
     ]
    }
   ],
   "source": [
    "model = Model(\"product_mix\")\n",
    "x ={}\n",
    "for i in I:\n",
    "    x[i] = model.addVar()\n",
    "model.update()\n",
    "model.addConstr(quicksum(x[i] for i in I) == 1)\n",
    "for k in K:\n",
    "    model.addConstr(quicksum(a[i,k] * x[i] for i in I ) <= UB[k])\n",
    "    model.addConstr(quicksum(a[i,k] * x[i] for i in I ) >= LB[k])\n",
    "model.setObjective(quicksum(p[i] * x[i] for i in I))\n",
    "model.optimize()\n",
    "for i in I:\n",
    "    print i, x[i].X"
   ]
  },
  {
   "cell_type": "code",
   "execution_count": 2,
   "metadata": {
    "collapsed": false
   },
   "outputs": [
    {
     "name": "stdout",
     "output_type": "stream",
     "text": [
      "Optimize a model with 3 rows, 3 columns and 7 nonzeros\n",
      "Coefficient statistics:\n",
      "  Matrix range    [1e+00, 8e+00]\n",
      "  Objective range [1e+00, 1e+00]\n",
      "  Bounds range    [0e+00, 0e+00]\n",
      "  RHS range       [3e+01, 8e+01]\n",
      "Presolve removed 3 rows and 3 columns\n",
      "Presolve time: 0.00s\n",
      "\n",
      "Explored 0 nodes (0 simplex iterations) in 0.01 seconds\n",
      "Thread count was 1 (of 4 available processors)\n",
      "\n",
      "Optimal solution found (tolerance 1.00e-04)\n",
      "Best objective 3.200000000000e+01, best bound 3.200000000000e+01, gap 0.0%\n",
      "Optimize a model with 3 rows, 3 columns and 7 nonzeros\n",
      "Coefficient statistics:\n",
      "  Matrix range    [5e-01, 8e+00]\n",
      "  Objective range [1e+00, 1e+00]\n",
      "  Bounds range    [0e+00, 0e+00]\n",
      "  RHS range       [3e+01, 8e+01]\n",
      "Presolve removed 1 rows and 1 columns\n",
      "Presolve time: 0.00s\n",
      "\n",
      "Explored 0 nodes (0 simplex iterations) in 0.00 seconds\n",
      "Thread count was 1 (of 4 available processors)\n",
      "\n",
      "Model is infeasible\n",
      "Best objective -, best bound -, gap -\n",
      "Optimize a model with 3 rows, 3 columns and 8 nonzeros\n",
      "Coefficient statistics:\n",
      "  Matrix range    [2e-01, 8e+00]\n",
      "  Objective range [1e+00, 1e+00]\n",
      "  Bounds range    [0e+00, 0e+00]\n",
      "  RHS range       [3e+01, 8e+01]\n",
      "Presolve time: 0.00s\n",
      "\n",
      "Explored 0 nodes (0 simplex iterations) in 0.01 seconds\n",
      "Thread count was 1 (of 4 available processors)\n",
      "\n",
      "Model is infeasible\n",
      "Best objective -, best bound -, gap -\n",
      "Optimize a model with 3 rows, 3 columns and 8 nonzeros\n",
      "Coefficient statistics:\n",
      "  Matrix range    [1e-01, 8e+00]\n",
      "  Objective range [1e+00, 1e+00]\n",
      "  Bounds range    [0e+00, 0e+00]\n",
      "  RHS range       [3e+01, 8e+01]\n",
      "Presolve removed 3 rows and 3 columns\n",
      "Presolve time: 0.00s\n",
      "\n",
      "Explored 0 nodes (0 simplex iterations) in 0.01 seconds\n",
      "Thread count was 1 (of 4 available processors)\n",
      "\n",
      "Optimal solution found (tolerance 1.00e-04)\n",
      "Best objective 3.200000000000e+01, best bound 3.200000000000e+01, gap 0.0%\n",
      "Optimize a model with 3 rows, 3 columns and 8 nonzeros\n",
      "Coefficient statistics:\n",
      "  Matrix range    [2e-01, 8e+00]\n",
      "  Objective range [1e+00, 1e+00]\n",
      "  Bounds range    [0e+00, 0e+00]\n",
      "  RHS range       [3e+01, 8e+01]\n",
      "Presolve removed 3 rows and 3 columns\n",
      "Presolve time: 0.00s\n",
      "\n",
      "Explored 0 nodes (0 simplex iterations) in 0.01 seconds\n",
      "Thread count was 1 (of 4 available processors)\n",
      "\n",
      "Optimal solution found (tolerance 1.00e-04)\n",
      "Best objective 3.200000000000e+01, best bound 3.200000000000e+01, gap 0.0%\n",
      "Optimize a model with 3 rows, 3 columns and 8 nonzeros\n",
      "Coefficient statistics:\n",
      "  Matrix range    [2e-01, 8e+00]\n",
      "  Objective range [1e+00, 1e+00]\n",
      "  Bounds range    [0e+00, 0e+00]\n",
      "  RHS range       [3e+01, 8e+01]\n",
      "Presolve time: 0.00s\n",
      "\n",
      "Explored 0 nodes (0 simplex iterations) in 0.02 seconds\n",
      "Thread count was 1 (of 4 available processors)\n",
      "\n",
      "Model is infeasible\n",
      "Best objective -, best bound -, gap -\n",
      "Optimize a model with 3 rows, 3 columns and 8 nonzeros\n",
      "Coefficient statistics:\n",
      "  Matrix range    [2e-01, 8e+00]\n",
      "  Objective range [1e+00, 1e+00]\n",
      "  Bounds range    [0e+00, 0e+00]\n",
      "  RHS range       [3e+01, 8e+01]\n",
      "Presolve time: 0.00s\n",
      "\n",
      "Explored 0 nodes (0 simplex iterations) in 0.01 seconds\n",
      "Thread count was 1 (of 4 available processors)\n",
      "\n",
      "Model is infeasible\n",
      "Best objective -, best bound -, gap -\n",
      "Optimize a model with 3 rows, 3 columns and 8 nonzeros\n",
      "Coefficient statistics:\n",
      "  Matrix range    [2e-01, 8e+00]\n",
      "  Objective range [1e+00, 1e+00]\n",
      "  Bounds range    [0e+00, 0e+00]\n",
      "  RHS range       [3e+01, 8e+01]\n",
      "Presolve removed 3 rows and 3 columns\n",
      "Presolve time: 0.00s\n",
      "\n",
      "Explored 0 nodes (0 simplex iterations) in 0.01 seconds\n",
      "Thread count was 1 (of 4 available processors)\n",
      "\n",
      "Optimal solution found (tolerance 1.00e-04)\n",
      "Best objective 3.200000000000e+01, best bound 3.200000000000e+01, gap 0.0%\n",
      "(x,y,z)= 24.0 8.0 0.0\n"
     ]
    }
   ],
   "source": [
    "#分数最適化　目的関数を制約に取り込んで二分探索法\n",
    "LB, UB, EPS = 0.0 ,1.0 ,0.01\n",
    "while 1:\n",
    "    theta = (UB+LB)/2\n",
    "    model = Model(\"tako\")\n",
    "    x = model.addVar(vtype = \"I\")\n",
    "    y = model.addVar(vtype = \"I\")\n",
    "    z = model.addVar(vtype = \"I\")\n",
    "    model.update()\n",
    "    model.addConstr(x+y+z ==32)\n",
    "    model.addConstr(2*x +4*y +8*z == 80)\n",
    "    model.addConstr((2*theta-1)*x +(4*theta-1)*y >=0)\n",
    "    model.setObjective(x+y+z)\n",
    "    model.optimize()\n",
    "    if model.Status == GRB.OPTIMAL:\n",
    "        UB = theta\n",
    "        if UB - LB <= EPS:\n",
    "            break\n",
    "    else:\n",
    "        LB = theta\n",
    "print \"(x,y,z)=\" , x.X ,y.X ,z.X"
   ]
  },
  {
   "cell_type": "code",
   "execution_count": 3,
   "metadata": {
    "collapsed": true
   },
   "outputs": [],
   "source": [
    "#多制約0-1ナップザック問題\n",
    "#まず問題の定式化と必要なデータ型の準備をする\n",
    "def example():\n",
    "    J,v = multidict({1:16,2:19,3:23,4:28})\n",
    "    a = {(1,1):2 ,(1,2):3 ,(1,3):4 ,(1,4):5 ,(2,1):3000 ,(2,2):3500 ,(2,3):5100 ,(2,4):7200}\n",
    "    I,b = multidict({1:7, 2:10000})\n",
    "    return I ,J ,v ,a,b"
   ]
  },
  {
   "cell_type": "code",
   "execution_count": 4,
   "metadata": {
    "collapsed": true
   },
   "outputs": [],
   "source": [
    "def mkp(I ,J ,v ,a ,b):\n",
    "    model = Model(\"nap\")\n",
    "    x ={}\n",
    "    for j in J:\n",
    "        x[j] = model.addVar(vtype =\"B\" ,name =\"x(%d)\"%j) #%dは符号付整数　ブール型\n",
    "    model.update()\n",
    "    for i in I:\n",
    "        model.addConstr(quicksum(a[i,j]*x[j] for j in J) <= b[i])\n",
    "    model.setObjective(quicksum(v[j] * x[j] for j in J), GRB.MAXIMIZE)\n",
    "    model.update()\n",
    "    return model"
   ]
  },
  {
   "cell_type": "code",
   "execution_count": 5,
   "metadata": {
    "collapsed": true
   },
   "outputs": [],
   "source": [
    "#最適化本番\n",
    "if __name__ == \"__main__\": #最適化本番に入る際のおまじない\n",
    "    I ,J ,v ,a ,b = example()\n",
    "    model = mkp(I ,J ,v ,a ,b)"
   ]
  },
  {
   "cell_type": "code",
   "execution_count": 6,
   "metadata": {
    "collapsed": true
   },
   "outputs": [],
   "source": [
    "#定式化のデバック（ただし、デバック画面を見れない）\n",
    "model.update()\n",
    "model.write(\"mkp.lp\")"
   ]
  },
  {
   "cell_type": "code",
   "execution_count": 8,
   "metadata": {
    "collapsed": false
   },
   "outputs": [
    {
     "name": "stdout",
     "output_type": "stream",
     "text": [
      "Optimize a model with 2 rows, 4 columns and 8 nonzeros\n",
      "Coefficient statistics:\n",
      "  Matrix range    [2e+00, 7e+03]\n",
      "  Objective range [2e+01, 3e+01]\n",
      "  Bounds range    [1e+00, 1e+00]\n",
      "  RHS range       [7e+00, 1e+04]\n",
      "Found heuristic solution: objective 35\n",
      "Presolve removed 2 rows and 4 columns\n",
      "Presolve time: 0.00s\n",
      "\n",
      "Explored 0 nodes (0 simplex iterations) in 0.01 seconds\n",
      "Thread count was 1 (of 4 available processors)\n",
      "\n",
      "Optimal solution found (tolerance 1.00e-04)\n",
      "Best objective 4.200000000000e+01, best bound 4.200000000000e+01, gap 0.0%\n",
      "\n"
     ]
    }
   ],
   "source": [
    "#最適化\n",
    "model.optimize()"
   ]
  },
  {
   "cell_type": "code",
   "execution_count": 9,
   "metadata": {
    "collapsed": false
   },
   "outputs": [
    {
     "name": "stdout",
     "output_type": "stream",
     "text": [
      "Optimum .Value= 42.0\n",
      "x(2) 1.0\n",
      "x(3) 1.0\n"
     ]
    }
   ],
   "source": [
    "print \"Optimum .Value=\" ,model.ObjVal\n",
    "EPS = 1.e-6\n",
    "for v in model.getVars():\n",
    "    if v.X > EPS:\n",
    "        print v.VarName ,v.X"
   ]
  },
  {
   "cell_type": "code",
   "execution_count": 21,
   "metadata": {
    "collapsed": false
   },
   "outputs": [],
   "source": [
    "#栄養問題\n",
    "model = Model(\"nutrients\")\n",
    "F =[\"c\", \"b\", \"d\"]\n",
    "x ={}\n",
    "for j in F:\n",
    "    x[j] = model.addVar(vtype =\"I\" ,name=\"x(%s)\" %j) #%sは文字列への変換だから納得\n",
    "model.update()"
   ]
  },
  {
   "cell_type": "code",
   "execution_count": 24,
   "metadata": {
    "collapsed": true
   },
   "outputs": [],
   "source": [
    "#規約不整合部分系 computeIIS\n",
    "#逸脱最適化　feasRelaxS\n",
    "F,c,d = multidict({\"CQPounder\":  [ 360, {\"Cal\":556, \"Carbo\":39, \"Protein\":30,\"VitA\":147,\"VitC\": 10, \"Calc\":221, \"Iron\":2.4}],\n",
    "        \"Big Mac\"  :  [ 320, {\"Cal\":556, \"Carbo\":46, \"Protein\":26,\n",
    "                              \"VitA\":97, \"VitC\":  9, \"Calc\":142, \"Iron\":2.4}],\n",
    "        \"FFilet\"   :  [ 270, {\"Cal\":356, \"Carbo\":42, \"Protein\":14,\n",
    "                              \"VitA\":28, \"VitC\":  1, \"Calc\": 76, \"Iron\":0.7}],\n",
    "        \"Chicken\"  :  [ 290, {\"Cal\":431, \"Carbo\":45, \"Protein\":20,\n",
    "                              \"VitA\": 9, \"VitC\":  2, \"Calc\": 37, \"Iron\":0.9}],\n",
    "        \"Fries\"    :  [ 190, {\"Cal\":249, \"Carbo\":30, \"Protein\": 3,\n",
    "                              \"VitA\": 0, \"VitC\":  5, \"Calc\":  7, \"Iron\":0.6}],\n",
    "        \"Milk\"     :  [ 170, {\"Cal\":138, \"Carbo\":10, \"Protein\": 7,\n",
    "                              \"VitA\":80, \"VitC\":  2, \"Calc\":227, \"Iron\": 0}],\n",
    "        \"VegJuice\" :  [ 100, {\"Cal\": 69, \"Carbo\":17, \"Protein\": 1,\n",
    "                              \"VitA\":750,\"VitC\":  2, \"Calc\":18,  \"Iron\": 0}],})\n",
    "\n",
    "N,a,b = multidict({ \n",
    "        \"Cal\"     : [ 2000,  3000],\n",
    "        \"Carbo\"   : [  300,  375 ],\n",
    "        \"Protein\" : [   50,   60 ],\n",
    "        \"VitA\"    : [  500,  750 ],\n",
    "        \"VitC\"    : [   85,  100 ],\n",
    "        \"Calc\"    : [  660,  900 ],\n",
    "        \"Iron\"    : [  6.0,  7.5 ],\n",
    "     })"
   ]
  },
  {
   "cell_type": "code",
   "execution_count": 26,
   "metadata": {
    "collapsed": false
   },
   "outputs": [
    {
     "data": {
      "text/plain": [
       "{'Big Mac': {'Cal': 556,\n",
       "  'Calc': 142,\n",
       "  'Carbo': 46,\n",
       "  'Iron': 2.4,\n",
       "  'Protein': 26,\n",
       "  'VitA': 97,\n",
       "  'VitC': 9},\n",
       " 'CQPounder': {'Cal': 556,\n",
       "  'Calc': 221,\n",
       "  'Carbo': 39,\n",
       "  'Iron': 2.4,\n",
       "  'Protein': 30,\n",
       "  'VitA': 147,\n",
       "  'VitC': 10},\n",
       " 'Chicken': {'Cal': 431,\n",
       "  'Calc': 37,\n",
       "  'Carbo': 45,\n",
       "  'Iron': 0.9,\n",
       "  'Protein': 20,\n",
       "  'VitA': 9,\n",
       "  'VitC': 2},\n",
       " 'FFilet': {'Cal': 356,\n",
       "  'Calc': 76,\n",
       "  'Carbo': 42,\n",
       "  'Iron': 0.7,\n",
       "  'Protein': 14,\n",
       "  'VitA': 28,\n",
       "  'VitC': 1},\n",
       " 'Fries': {'Cal': 249,\n",
       "  'Calc': 7,\n",
       "  'Carbo': 30,\n",
       "  'Iron': 0.6,\n",
       "  'Protein': 3,\n",
       "  'VitA': 0,\n",
       "  'VitC': 5},\n",
       " 'Milk': {'Cal': 138,\n",
       "  'Calc': 227,\n",
       "  'Carbo': 10,\n",
       "  'Iron': 0,\n",
       "  'Protein': 7,\n",
       "  'VitA': 80,\n",
       "  'VitC': 2},\n",
       " 'VegJuice': {'Cal': 69,\n",
       "  'Calc': 18,\n",
       "  'Carbo': 17,\n",
       "  'Iron': 0,\n",
       "  'Protein': 1,\n",
       "  'VitA': 750,\n",
       "  'VitC': 2}}"
      ]
     },
     "execution_count": 26,
     "metadata": {},
     "output_type": "execute_result"
    }
   ],
   "source": [
    "d"
   ]
  },
  {
   "cell_type": "code",
   "execution_count": 30,
   "metadata": {
    "collapsed": false
   },
   "outputs": [
    {
     "ename": "SyntaxError",
     "evalue": "invalid syntax (<ipython-input-30-36826724f83b>, line 7)",
     "output_type": "error",
     "traceback": [
      "\u001b[0;36m  File \u001b[0;32m\"<ipython-input-30-36826724f83b>\"\u001b[0;36m, line \u001b[0;32m7\u001b[0m\n\u001b[0;31m    model2.addConstr(quicksum(d[j][i]*x[j] for j in F) >=a[i] ,NutrLB(%s)%i)\u001b[0m\n\u001b[0m                                                                      ^\u001b[0m\n\u001b[0;31mSyntaxError\u001b[0m\u001b[0;31m:\u001b[0m invalid syntax\n"
     ]
    }
   ],
   "source": [
    " #なぜかinvalid\n",
    "model2 =Model(\"diet\")\n",
    "x ={}\n",
    "for j in F:\n",
    "    x[j] = model2.addVar(vtype=\"I\" ,name = \"x(%s)\" %j)\n",
    "model2.update()\n",
    "for i in N:\n",
    "    model2.addConstr(quicksum(d[j][i]*x[j] for j in F) >=a[i] ,NutrLB(%s)%i)\n",
    "    model2.addConstr(quicksum(d[j][i]*x[j] for j in F) <=b[i] ,NutrUB(%s)%i)\n",
    "model2.setObjective(quicksum(c[j] *x[j] for j in F))\n",
    "model2.optimize()"
   ]
  },
  {
   "cell_type": "code",
   "execution_count": null,
   "metadata": {
    "collapsed": true
   },
   "outputs": [],
   "source": []
  }
 ],
 "metadata": {
  "kernelspec": {
   "display_name": "Python 2",
   "language": "python",
   "name": "python2"
  },
  "language_info": {
   "codemirror_mode": {
    "name": "ipython",
    "version": 2
   },
   "file_extension": ".py",
   "mimetype": "text/x-python",
   "name": "python",
   "nbconvert_exporter": "python",
   "pygments_lexer": "ipython2",
   "version": "2.7.9"
  }
 },
 "nbformat": 4,
 "nbformat_minor": 0
}
