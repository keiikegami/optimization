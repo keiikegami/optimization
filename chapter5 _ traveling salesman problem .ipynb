{
 "cells": [
  {
   "cell_type": "code",
   "execution_count": 3,
   "metadata": {
    "collapsed": true
   },
   "outputs": [],
   "source": [
    "#部分巡回路除去定式化\n",
    "#部分巡回路除去制約はカットセット制約と同じ\n",
    "#部分巡回路除去制約を追加するaddcut関数を作る\n",
    "import gurobipy\n",
    "import networkx\n",
    "def addcut(edges):\n",
    "    G = networkx.Graph()\n",
    "    G.add_nodes_from(V)\n",
    "    for (i,j) in edges:\n",
    "        G.add_edge(i,j)\n",
    "    \n",
    "    Components = networkx.connected_components(G)\n",
    "    if len(Components) == 1:\n",
    "        return False\n",
    "    \n",
    "    for S in Components:\n",
    "        model.addConstr(quicksum(x[i,j] for i in S for j in S if j > i ) <= len(S) -1)\n",
    "    \n",
    "    return True"
   ]
  },
  {
   "cell_type": "code",
   "execution_count": 4,
   "metadata": {
    "collapsed": true
   },
   "outputs": [],
   "source": [
    "def make_data(n, prob):\n",
    "    V = range(1, n+1)\n",
    "    E = [(i,j) for i in V for j in V if i < j and random.random() < prob]\n",
    "    return V, E"
   ]
  },
  {
   "cell_type": "code",
   "execution_count": 5,
   "metadata": {
    "collapsed": false
   },
   "outputs": [
    {
     "ename": "SyntaxError",
     "evalue": "invalid syntax (<ipython-input-5-57d94b232dab>, line 11)",
     "output_type": "error",
     "traceback": [
      "\u001b[0;36m  File \u001b[0;32m\"<ipython-input-5-57d94b232dab>\"\u001b[0;36m, line \u001b[0;32m11\u001b[0m\n\u001b[0;31m    fori in V:\u001b[0m\n\u001b[0m             ^\u001b[0m\n\u001b[0;31mSyntaxError\u001b[0m\u001b[0;31m:\u001b[0m invalid syntax\n"
     ]
    }
   ],
   "source": [
    "#部分巡回路除去法\n",
    "def solve_tsp(V, c):\n",
    "    model = Model(\"tsp\")\n",
    "    x = {}\n",
    "    for i in V:\n",
    "        for j in V:\n",
    "            if j >i:\n",
    "                x[i,j] = model.addVar(ub = 1)\n",
    "    model.update()\n",
    "    \n",
    "    fori in V:\n",
    "        model.addConstr(quicksum(x[j,i] for j in V if j < i) + quicksum(x[i,j] for j in V if j>i) == 2)\n",
    "        \n",
    "    model.setObjective(quicksum(c[i,j]*x[i,j] for i in V for j in V if j > i))\n",
    "    EPS = 1.e-6\n",
    "    while True:\n",
    "        model.optimize()\n",
    "        edges = []\n",
    "        for (i,j) in x:\n",
    "            if x[i,j].X > EPS:\n",
    "                edges.append((i,j))\n",
    "        if addcut(edges) == False:\n",
    "            if model.IsMIP:\n",
    "                break\n",
    "            for (i,j) in x:\n",
    "                x[i,j].Vtype = \"B\"\n",
    "            model.update()\n",
    "    \n",
    "    return model.ObjVal, egdes"
   ]
  },
  {
   "cell_type": "code",
   "execution_count": null,
   "metadata": {
    "collapsed": true
   },
   "outputs": [],
   "source": []
  }
 ],
 "metadata": {
  "kernelspec": {
   "display_name": "Python 2",
   "language": "python",
   "name": "python2"
  },
  "language_info": {
   "codemirror_mode": {
    "name": "ipython",
    "version": 2
   },
   "file_extension": ".py",
   "mimetype": "text/x-python",
   "name": "python",
   "nbconvert_exporter": "python",
   "pygments_lexer": "ipython2",
   "version": "2.7.9"
  }
 },
 "nbformat": 4,
 "nbformat_minor": 0
}
